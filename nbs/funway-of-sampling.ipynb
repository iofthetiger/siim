{
 "cells": [
  {
   "cell_type": "code",
   "execution_count": 1,
   "metadata": {
    "_cell_guid": "b1076dfc-b9ad-4769-8c92-a6c4dae69d19",
    "_uuid": "8f2839f25d086af736a60e9eeb907d3b93b6e0e5",
    "execution": {
     "iopub.execute_input": "2020-08-12T00:31:37.161681Z",
     "iopub.status.busy": "2020-08-12T00:31:37.160899Z",
     "iopub.status.idle": "2020-08-12T00:31:37.164120Z",
     "shell.execute_reply": "2020-08-12T00:31:37.163425Z"
    },
    "papermill": {
     "duration": 0.020849,
     "end_time": "2020-08-12T00:31:37.164241",
     "exception": false,
     "start_time": "2020-08-12T00:31:37.143392",
     "status": "completed"
    },
    "tags": []
   },
   "outputs": [],
   "source": [
    "# This Python 3 environment comes with many helpful analytics libraries installed\n",
    "# It is defined by the kaggle/python Docker image: https://github.com/kaggle/docker-python\n",
    "# For example, here's several helpful packages to load\n",
    "\n",
    "import numpy as np # linear algebra\n",
    "import pandas as pd # data processing, CSV file I/O (e.g. pd.read_csv)\n",
    "\n",
    "# Input data files are available in the read-only \"../input/\" directory\n",
    "# For example, running this (by clicking run or pressing Shift+Enter) will list all files under the input directory\n",
    "\n",
    "import os\n",
    "\n",
    "# for dirname, _, filenames in os.walk('/kaggle/input'):\n",
    "#     for filename in filenames:\n",
    "#         print(os.path.join(dirname, filename))\n",
    "\n",
    "# You can write up to 5GB to the current directory (/kaggle/working/) that gets preserved as output when you create a version using \"Save & Run All\" \n",
    "# You can also write temporary files to /kaggle/temp/, but they won't be saved outside of the current session"
   ]
  },
  {
   "cell_type": "code",
   "execution_count": 2,
   "metadata": {
    "_cell_guid": "79c7e3d0-c299-4dcb-8224-4455121ee9b0",
    "_uuid": "d629ff2d2480ee46fbb7e2d37f6b5fab8052498a",
    "execution": {
     "iopub.execute_input": "2020-08-12T00:31:37.193099Z",
     "iopub.status.busy": "2020-08-12T00:31:37.192360Z",
     "iopub.status.idle": "2020-08-12T00:31:46.379800Z",
     "shell.execute_reply": "2020-08-12T00:31:46.379204Z"
    },
    "papermill": {
     "duration": 9.204538,
     "end_time": "2020-08-12T00:31:46.379921",
     "exception": false,
     "start_time": "2020-08-12T00:31:37.175383",
     "status": "completed"
    },
    "tags": []
   },
   "outputs": [
    {
     "name": "stdout",
     "output_type": "stream",
     "text": [
      "Collecting forgebox\r\n",
      "  Downloading forgebox-0.2.5-py3-none-any.whl (51 kB)\r\n",
      "\u001b[K     |████████████████████████████████| 51 kB 281 kB/s \r\n",
      "\u001b[?25hInstalling collected packages: forgebox\r\n",
      "Successfully installed forgebox-0.2.5\r\n",
      "\u001b[33mWARNING: You are using pip version 20.1.1; however, version 20.2.2 is available.\r\n",
      "You should consider upgrading via the '/opt/conda/bin/python3.7 -m pip install --upgrade pip' command.\u001b[0m\r\n"
     ]
    }
   ],
   "source": [
    "!pip install forgebox"
   ]
  },
  {
   "cell_type": "code",
   "execution_count": 3,
   "metadata": {
    "execution": {
     "iopub.execute_input": "2020-08-12T00:31:46.412785Z",
     "iopub.status.busy": "2020-08-12T00:31:46.412073Z",
     "iopub.status.idle": "2020-08-12T00:31:48.454217Z",
     "shell.execute_reply": "2020-08-12T00:31:48.453513Z"
    },
    "papermill": {
     "duration": 2.060598,
     "end_time": "2020-08-12T00:31:48.454354",
     "exception": false,
     "start_time": "2020-08-12T00:31:46.393756",
     "status": "completed"
    },
    "tags": []
   },
   "outputs": [],
   "source": [
    "from forgebox.imports import *\n",
    "from joblib import Parallel, delayed"
   ]
  },
  {
   "cell_type": "code",
   "execution_count": 4,
   "metadata": {
    "execution": {
     "iopub.execute_input": "2020-08-12T00:31:48.487892Z",
     "iopub.status.busy": "2020-08-12T00:31:48.487188Z",
     "iopub.status.idle": "2020-08-12T00:31:48.490027Z",
     "shell.execute_reply": "2020-08-12T00:31:48.489381Z"
    },
    "papermill": {
     "duration": 0.022209,
     "end_time": "2020-08-12T00:31:48.490143",
     "exception": false,
     "start_time": "2020-08-12T00:31:48.467934",
     "status": "completed"
    },
    "tags": []
   },
   "outputs": [],
   "source": [
    "INPUT = Path('/kaggle/input')\n",
    "DATA = INPUT/\"siim-isic-melanoma-classification\"\n",
    "TRAIN = DATA/\"jpeg\"/'train'\n",
    "TEST  = DATA/\"jpeg\"/'test'"
   ]
  },
  {
   "cell_type": "code",
   "execution_count": 5,
   "metadata": {
    "execution": {
     "iopub.execute_input": "2020-08-12T00:31:48.522559Z",
     "iopub.status.busy": "2020-08-12T00:31:48.521870Z",
     "iopub.status.idle": "2020-08-12T00:31:48.528980Z",
     "shell.execute_reply": "2020-08-12T00:31:48.528332Z"
    },
    "papermill": {
     "duration": 0.025165,
     "end_time": "2020-08-12T00:31:48.529149",
     "exception": false,
     "start_time": "2020-08-12T00:31:48.503984",
     "status": "completed"
    },
    "tags": []
   },
   "outputs": [
    {
     "data": {
      "text/plain": [
       "['train',\n",
       " 'test',\n",
       " 'test.csv',\n",
       " 'sample_submission.csv',\n",
       " 'jpeg',\n",
       " 'train.csv',\n",
       " 'tfrecords']"
      ]
     },
     "execution_count": 5,
     "metadata": {},
     "output_type": "execute_result"
    }
   ],
   "source": [
    "DATA.ls()"
   ]
  },
  {
   "cell_type": "code",
   "execution_count": 6,
   "metadata": {
    "execution": {
     "iopub.execute_input": "2020-08-12T00:31:48.562695Z",
     "iopub.status.busy": "2020-08-12T00:31:48.561819Z",
     "iopub.status.idle": "2020-08-12T00:31:48.933016Z",
     "shell.execute_reply": "2020-08-12T00:31:48.932332Z"
    },
    "papermill": {
     "duration": 0.390273,
     "end_time": "2020-08-12T00:31:48.933136",
     "exception": false,
     "start_time": "2020-08-12T00:31:48.542863",
     "status": "completed"
    },
    "tags": []
   },
   "outputs": [
    {
     "data": {
      "text/plain": [
       "['ISIC_5749706.jpg',\n",
       " 'ISIC_9038210.jpg',\n",
       " 'ISIC_9932789.jpg',\n",
       " 'ISIC_3649363.jpg',\n",
       " 'ISIC_6591185.jpg']"
      ]
     },
     "execution_count": 6,
     "metadata": {},
     "output_type": "execute_result"
    }
   ],
   "source": [
    "TRAIN.ls()[:5]"
   ]
  },
  {
   "cell_type": "code",
   "execution_count": 7,
   "metadata": {
    "execution": {
     "iopub.execute_input": "2020-08-12T00:31:48.967465Z",
     "iopub.status.busy": "2020-08-12T00:31:48.966739Z",
     "iopub.status.idle": "2020-08-12T00:31:49.105068Z",
     "shell.execute_reply": "2020-08-12T00:31:49.104374Z"
    },
    "papermill": {
     "duration": 0.157431,
     "end_time": "2020-08-12T00:31:49.105190",
     "exception": false,
     "start_time": "2020-08-12T00:31:48.947759",
     "status": "completed"
    },
    "tags": []
   },
   "outputs": [
    {
     "data": {
      "text/plain": [
       "['ISIC_6024601.jpg',\n",
       " 'ISIC_1521467.jpg',\n",
       " 'ISIC_7405314.jpg',\n",
       " 'ISIC_1667159.jpg',\n",
       " 'ISIC_5176953.jpg']"
      ]
     },
     "execution_count": 7,
     "metadata": {},
     "output_type": "execute_result"
    }
   ],
   "source": [
    "TEST.ls()[:5]"
   ]
  },
  {
   "cell_type": "code",
   "execution_count": 8,
   "metadata": {
    "execution": {
     "iopub.execute_input": "2020-08-12T00:31:49.140922Z",
     "iopub.status.busy": "2020-08-12T00:31:49.140200Z",
     "iopub.status.idle": "2020-08-12T00:31:49.142914Z",
     "shell.execute_reply": "2020-08-12T00:31:49.142274Z"
    },
    "papermill": {
     "duration": 0.022628,
     "end_time": "2020-08-12T00:31:49.143031",
     "exception": false,
     "start_time": "2020-08-12T00:31:49.120403",
     "status": "completed"
    },
    "tags": []
   },
   "outputs": [],
   "source": [
    "def open_img(path,parent = TRAIN):\n",
    "    return Image.open(parent/path).convert('RGB')"
   ]
  },
  {
   "cell_type": "code",
   "execution_count": 9,
   "metadata": {
    "execution": {
     "iopub.execute_input": "2020-08-12T00:31:49.178803Z",
     "iopub.status.busy": "2020-08-12T00:31:49.178096Z",
     "iopub.status.idle": "2020-08-12T00:31:49.221421Z",
     "shell.execute_reply": "2020-08-12T00:31:49.220763Z"
    },
    "papermill": {
     "duration": 0.063532,
     "end_time": "2020-08-12T00:31:49.221560",
     "exception": false,
     "start_time": "2020-08-12T00:31:49.158028",
     "status": "completed"
    },
    "tags": []
   },
   "outputs": [
    {
     "data": {
      "image/png": "[encoded data removed]",
      "text/plain": [
       "<PIL.Image.Image image mode=RGB size=50x50 at 0x7F9F70410950>"
      ]
     },
     "execution_count": 9,
     "metadata": {},
     "output_type": "execute_result"
    }
   ],
   "source": [
    "open_img('ISIC_2679975.jpg').resize((50,50))"
   ]
  },
  {
   "cell_type": "code",
   "execution_count": 10,
   "metadata": {
    "execution": {
     "iopub.execute_input": "2020-08-12T00:31:49.257950Z",
     "iopub.status.busy": "2020-08-12T00:31:49.257277Z",
     "iopub.status.idle": "2020-08-12T00:31:49.260757Z",
     "shell.execute_reply": "2020-08-12T00:31:49.260110Z"
    },
    "papermill": {
     "duration": 0.023422,
     "end_time": "2020-08-12T00:31:49.260874",
     "exception": false,
     "start_time": "2020-08-12T00:31:49.237452",
     "status": "completed"
    },
    "tags": []
   },
   "outputs": [],
   "source": [
    "# train_meta_df = pd.DataFrame(dict(fname = TRAIN.ls()))\n",
    "# test_meta_df = pd.DataFrame(dict(fname = TEST.ls()))\n",
    "\n",
    "# train_meta_df['img_size'] = train_meta_df.fname.apply(lambda fname: open_img(fname).size)\n",
    "\n",
    "# test_meta_df['img_size'] = test_meta_df.fname.apply(lambda fname: open_img(fname,parent=TEST).size)\n",
    "\n",
    "# train_meta_df.vc(\"img_size\").head(20)\n",
    "\n",
    "# test_meta_df.vc(\"img_size\").head(20)"
   ]
  },
  {
   "cell_type": "markdown",
   "execution_count": null,
   "metadata": {
    "papermill": {
     "duration": 0.015613,
     "end_time": "2020-08-12T00:31:49.291974",
     "exception": false,
     "start_time": "2020-08-12T00:31:49.276361",
     "status": "completed"
    },
    "tags": []
   },
   "source": [
    "```\n",
    "img_size\n",
    "(6000, 4000)\t14703\n",
    "(1872, 1053)\t7534\n",
    "(640, 480)\t4147\n",
    "(5184, 3456)\t3418\n",
    "(3264, 2448)\t1483\n",
    "(4288, 2848)\t729\n",
    "(2592, 1936)\t674\n",
    "(3888, 2592)\t140\n",
    "(4032, 3024)\t84\n",
    "(2317, 2317)\t29\n",
    "(2848, 4288)\t17\n",
    "(3456, 5184)\t16\n",
    "(4608, 3072)\t10\n",
    "(1761, 1761)\t7\n",
    "(1775, 1775)\t7\n",
    "(2329, 2329)\t6\n",
    "(1763, 1763)\t6\n",
    "(1769, 1769)\t5\n",
    "(1773, 1773)\t4\n",
    "(3872, 2592)\t4\n",
    "```"
   ]
  },
  {
   "cell_type": "markdown",
   "execution_count": null,
   "metadata": {
    "papermill": {
     "duration": 0.01537,
     "end_time": "2020-08-12T00:31:49.322977",
     "exception": false,
     "start_time": "2020-08-12T00:31:49.307607",
     "status": "completed"
    },
    "tags": []
   },
   "source": [
    "\n",
    "```\n",
    "\timg_size\n",
    "(6000, 4000)\t14703\n",
    "(1872, 1053)\t7534\n",
    "(640, 480)\t4147\n",
    "(5184, 3456)\t3418\n",
    "(3264, 2448)\t1483\n",
    "(4288, 2848)\t729\n",
    "(2592, 1936)\t674\n",
    "(3888, 2592)\t140\n",
    "(4032, 3024)\t84\n",
    "(2317, 2317)\t29\n",
    "(2848, 4288)\t17\n",
    "(3456, 5184)\t16\n",
    "(4608, 3072)\t10\n",
    "(1761, 1761)\t7\n",
    "(1775, 1775)\t7\n",
    "(2329, 2329)\t6\n",
    "(1763, 1763)\t6\n",
    "(1769, 1769)\t5\n",
    "(1773, 1773)\t4\n",
    "(3872, 2592)\t4\n",
    "```"
   ]
  },
  {
   "cell_type": "code",
   "execution_count": 11,
   "metadata": {
    "execution": {
     "iopub.execute_input": "2020-08-12T00:31:49.360617Z",
     "iopub.status.busy": "2020-08-12T00:31:49.359646Z",
     "iopub.status.idle": "2020-08-12T00:31:49.363125Z",
     "shell.execute_reply": "2020-08-12T00:31:49.362507Z"
    },
    "papermill": {
     "duration": 0.02467,
     "end_time": "2020-08-12T00:31:49.363239",
     "exception": false,
     "start_time": "2020-08-12T00:31:49.338569",
     "status": "completed"
    },
    "tags": []
   },
   "outputs": [],
   "source": [
    "# img.resize((60,40))"
   ]
  },
  {
   "cell_type": "markdown",
   "execution_count": null,
   "metadata": {
    "papermill": {
     "duration": 0.015559,
     "end_time": "2020-08-12T00:31:49.394611",
     "exception": false,
     "start_time": "2020-08-12T00:31:49.379052",
     "status": "completed"
    },
    "tags": []
   },
   "source": [
    "Cropping with (left, upper, right, lower)"
   ]
  },
  {
   "cell_type": "code",
   "execution_count": 12,
   "metadata": {
    "execution": {
     "iopub.execute_input": "2020-08-12T00:31:49.434689Z",
     "iopub.status.busy": "2020-08-12T00:31:49.433963Z",
     "iopub.status.idle": "2020-08-12T00:31:49.437065Z",
     "shell.execute_reply": "2020-08-12T00:31:49.436359Z"
    },
    "papermill": {
     "duration": 0.026509,
     "end_time": "2020-08-12T00:31:49.437190",
     "exception": false,
     "start_time": "2020-08-12T00:31:49.410681",
     "status": "completed"
    },
    "tags": []
   },
   "outputs": [],
   "source": [
    "def proper_size(img):\n",
    "    w,h = img.size\n",
    "    if h>w:\n",
    "        img = img.transpose(Image.ROTATE_90)\n",
    "    check = False\n",
    "    while check == False:\n",
    "        if min(w,h)>1599:\n",
    "            img = img.resize((w//2,h//2))\n",
    "        if min(w,h)<256:\n",
    "            img = img.resize((w*2,h*2))\n",
    "            \n",
    "        w,h = img.size\n",
    "        check = True\n",
    "    return img"
   ]
  },
  {
   "cell_type": "code",
   "execution_count": 13,
   "metadata": {
    "execution": {
     "iopub.execute_input": "2020-08-12T00:31:49.476284Z",
     "iopub.status.busy": "2020-08-12T00:31:49.475361Z",
     "iopub.status.idle": "2020-08-12T00:31:49.478855Z",
     "shell.execute_reply": "2020-08-12T00:31:49.478197Z"
    },
    "papermill": {
     "duration": 0.025885,
     "end_time": "2020-08-12T00:31:49.478974",
     "exception": false,
     "start_time": "2020-08-12T00:31:49.453089",
     "status": "completed"
    },
    "tags": []
   },
   "outputs": [],
   "source": [
    "def find_center(img,size = 256):\n",
    "    w,h = img.size\n",
    "    left = w//2-size//2\n",
    "    upper = h//2-size//2\n",
    "    right = left+size\n",
    "    lower = upper+size\n",
    "    return img.crop((left, upper, right, lower))"
   ]
  },
  {
   "cell_type": "code",
   "execution_count": 14,
   "metadata": {
    "execution": {
     "iopub.execute_input": "2020-08-12T00:31:49.516064Z",
     "iopub.status.busy": "2020-08-12T00:31:49.515123Z",
     "iopub.status.idle": "2020-08-12T00:31:49.517633Z",
     "shell.execute_reply": "2020-08-12T00:31:49.518080Z"
    },
    "papermill": {
     "duration": 0.023618,
     "end_time": "2020-08-12T00:31:49.518234",
     "exception": false,
     "start_time": "2020-08-12T00:31:49.494616",
     "status": "completed"
    },
    "tags": []
   },
   "outputs": [],
   "source": [
    "from random import choice"
   ]
  },
  {
   "cell_type": "code",
   "execution_count": 15,
   "metadata": {
    "execution": {
     "iopub.execute_input": "2020-08-12T00:31:49.558905Z",
     "iopub.status.busy": "2020-08-12T00:31:49.558137Z",
     "iopub.status.idle": "2020-08-12T00:31:49.561948Z",
     "shell.execute_reply": "2020-08-12T00:31:49.561308Z"
    },
    "papermill": {
     "duration": 0.02771,
     "end_time": "2020-08-12T00:31:49.562083",
     "exception": false,
     "start_time": "2020-08-12T00:31:49.534373",
     "status": "completed"
    },
    "tags": []
   },
   "outputs": [],
   "source": [
    "def find_ratio(img,size = 256,ratio = .3):\n",
    "    w,h = img.size\n",
    "    h2 = int(h*ratio)\n",
    "    upper = (h-h2)//2\n",
    "    lower = upper+h2\n",
    "    \n",
    "    w2 = int(w*ratio)\n",
    "    wpad = (w-w2)//2\n",
    "    start = choice(list(range(max(1,w2-h2))))\n",
    "    left = wpad+start\n",
    "    right = left+h2\n",
    "\n",
    "    return img.crop((left, upper, right, lower)).resize((size,size))"
   ]
  },
  {
   "cell_type": "code",
   "execution_count": 16,
   "metadata": {
    "execution": {
     "iopub.execute_input": "2020-08-12T00:31:49.601852Z",
     "iopub.status.busy": "2020-08-12T00:31:49.600987Z",
     "iopub.status.idle": "2020-08-12T00:31:49.603687Z",
     "shell.execute_reply": "2020-08-12T00:31:49.604132Z"
    },
    "papermill": {
     "duration": 0.026372,
     "end_time": "2020-08-12T00:31:49.604284",
     "exception": false,
     "start_time": "2020-08-12T00:31:49.577912",
     "status": "completed"
    },
    "tags": []
   },
   "outputs": [],
   "source": [
    "def combine_4in1(*imgs,size = 256):\n",
    "    dst = Image.new('RGB', (size*2,size*2))\n",
    "    dst.paste(imgs[0], (0, 0))\n",
    "    dst.paste(imgs[1], (0, size))\n",
    "    dst.paste(imgs[2], (size, 0))\n",
    "    dst.paste(imgs[3], (size, size))\n",
    "    return dst"
   ]
  },
  {
   "cell_type": "code",
   "execution_count": 17,
   "metadata": {
    "execution": {
     "iopub.execute_input": "2020-08-12T00:31:49.643256Z",
     "iopub.status.busy": "2020-08-12T00:31:49.642270Z",
     "iopub.status.idle": "2020-08-12T00:31:49.645587Z",
     "shell.execute_reply": "2020-08-12T00:31:49.644947Z"
    },
    "papermill": {
     "duration": 0.025488,
     "end_time": "2020-08-12T00:31:49.645704",
     "exception": false,
     "start_time": "2020-08-12T00:31:49.620216",
     "status": "completed"
    },
    "tags": []
   },
   "outputs": [],
   "source": [
    "def different_scale_crop(img,size=512):\n",
    "    img = proper_size(img)\n",
    "    return combine_4in1(*map(lambda i:find_ratio(img,size=size//2,ratio = 1-2*(i/10)),range(1,5)))"
   ]
  },
  {
   "cell_type": "code",
   "execution_count": 18,
   "metadata": {
    "execution": {
     "iopub.execute_input": "2020-08-12T00:31:49.682791Z",
     "iopub.status.busy": "2020-08-12T00:31:49.682080Z",
     "iopub.status.idle": "2020-08-12T00:31:50.701311Z",
     "shell.execute_reply": "2020-08-12T00:31:50.700623Z"
    },
    "papermill": {
     "duration": 1.039767,
     "end_time": "2020-08-12T00:31:50.701437",
     "exception": false,
     "start_time": "2020-08-12T00:31:49.661670",
     "status": "completed"
    },
    "tags": []
   },
   "outputs": [],
   "source": [
    "img = different_scale_crop(open_img(TRAIN.ls()[0]),size = 512)"
   ]
  },
  {
   "cell_type": "code",
   "execution_count": 19,
   "metadata": {
    "execution": {
     "iopub.execute_input": "2020-08-12T00:31:50.738984Z",
     "iopub.status.busy": "2020-08-12T00:31:50.738185Z",
     "iopub.status.idle": "2020-08-12T00:31:50.741129Z",
     "shell.execute_reply": "2020-08-12T00:31:50.740508Z"
    },
    "papermill": {
     "duration": 0.023638,
     "end_time": "2020-08-12T00:31:50.741242",
     "exception": false,
     "start_time": "2020-08-12T00:31:50.717604",
     "status": "completed"
    },
    "tags": []
   },
   "outputs": [],
   "source": [
    "HOME = Path(\".\")"
   ]
  },
  {
   "cell_type": "code",
   "execution_count": 20,
   "metadata": {
    "execution": {
     "iopub.execute_input": "2020-08-12T00:31:50.778155Z",
     "iopub.status.busy": "2020-08-12T00:31:50.777311Z",
     "iopub.status.idle": "2020-08-12T00:31:50.779535Z",
     "shell.execute_reply": "2020-08-12T00:31:50.780108Z"
    },
    "papermill": {
     "duration": 0.02323,
     "end_time": "2020-08-12T00:31:50.780257",
     "exception": false,
     "start_time": "2020-08-12T00:31:50.757027",
     "status": "completed"
    },
    "tags": []
   },
   "outputs": [],
   "source": [
    "TRAIN_SAVE = HOME/\"img/train\"\n",
    "TEST_SAVE = HOME/\"img/test\""
   ]
  },
  {
   "cell_type": "code",
   "execution_count": 21,
   "metadata": {
    "execution": {
     "iopub.execute_input": "2020-08-12T00:31:50.819114Z",
     "iopub.status.busy": "2020-08-12T00:31:50.818444Z",
     "iopub.status.idle": "2020-08-12T00:31:52.318546Z",
     "shell.execute_reply": "2020-08-12T00:31:52.317705Z"
    },
    "papermill": {
     "duration": 1.522266,
     "end_time": "2020-08-12T00:31:52.318682",
     "exception": false,
     "start_time": "2020-08-12T00:31:50.796416",
     "status": "completed"
    },
    "tags": []
   },
   "outputs": [],
   "source": [
    "!mkdir -p {TRAIN_SAVE}\n",
    "!mkdir -p {TEST_SAVE}"
   ]
  },
  {
   "cell_type": "code",
   "execution_count": 22,
   "metadata": {
    "execution": {
     "iopub.execute_input": "2020-08-12T00:31:52.358654Z",
     "iopub.status.busy": "2020-08-12T00:31:52.357696Z",
     "iopub.status.idle": "2020-08-12T00:31:52.372421Z",
     "shell.execute_reply": "2020-08-12T00:31:52.371861Z"
    },
    "papermill": {
     "duration": 0.037439,
     "end_time": "2020-08-12T00:31:52.372591",
     "exception": false,
     "start_time": "2020-08-12T00:31:52.335152",
     "status": "completed"
    },
    "tags": []
   },
   "outputs": [],
   "source": [
    "\n",
    "train_files = TRAIN.ls()\n",
    "def process_file_train(fname):\n",
    "    img = open_img(fname,parent = TRAIN)\n",
    "    img = different_scale_crop(img,size = 512)\n",
    "    newname = fname.split(\".\")[0]+\".jpg\"\n",
    "    img.save(TRAIN_SAVE/f\"{newname}\")"
   ]
  },
  {
   "cell_type": "code",
   "execution_count": 23,
   "metadata": {
    "execution": {
     "iopub.execute_input": "2020-08-12T00:31:52.410982Z",
     "iopub.status.busy": "2020-08-12T00:31:52.410212Z",
     "iopub.status.idle": "2020-08-12T02:15:30.365376Z",
     "shell.execute_reply": "2020-08-12T02:15:30.365922Z"
    },
    "papermill": {
     "duration": 6217.97742,
     "end_time": "2020-08-12T02:15:30.366107",
     "exception": false,
     "start_time": "2020-08-12T00:31:52.388687",
     "status": "completed"
    },
    "tags": []
   },
   "outputs": [
    {
     "name": "stderr",
     "output_type": "stream",
     "text": [
      "/opt/conda/lib/python3.7/site-packages/joblib/externals/loky/process_executor.py:706: UserWarning: A worker stopped while some jobs were given to the executor. This can be caused by a too short worker timeout or by a memory leak.\n",
      "  \"timeout or by a memory leak.\", UserWarning\n"
     ]
    },
    {
     "data": {
      "text/plain": [
       "[None,\n",
       " None,\n",
       " None,\n",
       " None,\n",
       " None,\n",
       " None,\n",
       " None,\n",
       " None,\n",
       " None,\n",
       " None,\n",
       " None,\n",
       " None,\n",
       " None,\n",
       " None,\n",
       " None,\n",
       " None,\n",
       " None,\n",
       " None,\n",
       " None,\n",
       " None,\n",
       " None,\n",
       " None,\n",
       " None,\n",
       " None,\n",
       " None,\n",
       " None,\n",
       " None,\n",
       " None,\n",
       " None,\n",
       " None,\n",
       " None,\n",
       " None,\n",
       " None,\n",
       " None,\n",
       " None,\n",
       " None,\n",
       " None,\n",
       " None,\n",
       " None,\n",
       " None,\n",
       " None,\n",
       " None,\n",
       " None,\n",
       " None,\n",
       " None,\n",
       " None,\n",
       " None,\n",
       " None,\n",
       " None,\n",
       " None,\n",
       " None,\n",
       " None,\n",
       " None,\n",
       " None,\n",
       " None,\n",
       " None,\n",
       " None,\n",
       " None,\n",
       " None,\n",
       " None,\n",
       " None,\n",
       " None,\n",
       " None,\n",
       " None,\n",
       " None,\n",
       " ...]"
      ]
     },
     "execution_count": 25,
     "metadata": {},
     "output_type": "execute_result"
    }
   ],
   "source": [
    "Parallel(n_jobs=8)(delayed(process_file_test)(fname) for fname in test_files)"
   ]
  },
  {
   "cell_type": "code",
   "execution_count": 26,
   "metadata": {
    "execution": {
     "iopub.execute_input": "2020-08-12T02:44:32.483762Z",
     "iopub.status.busy": "2020-08-12T02:44:32.483026Z",
     "iopub.status.idle": "2020-08-12T02:44:33.692899Z",
     "shell.execute_reply": "2020-08-12T02:44:33.692192Z"
    },
    "papermill": {
     "duration": 1.235255,
     "end_time": "2020-08-12T02:44:33.693020",
     "exception": false,
     "start_time": "2020-08-12T02:44:32.457765",
     "status": "completed"
    },
    "tags": []
   },
   "outputs": [
    {
     "name": "stdout",
     "output_type": "stream",
     "text": [
      "33127\r\n"
     ]
    }
   ],
   "source": [
    "!ls -l {TRAIN_SAVE}|wc -l"
   ]
  },
  {
   "cell_type": "code",
   "execution_count": 27,
   "metadata": {
    "execution": {
     "iopub.execute_input": "2020-08-12T02:44:33.736890Z",
     "iopub.status.busy": "2020-08-12T02:44:33.736028Z",
     "iopub.status.idle": "2020-08-12T02:44:34.597818Z",
     "shell.execute_reply": "2020-08-12T02:44:34.597202Z"
    },
    "papermill": {
     "duration": 0.886424,
     "end_time": "2020-08-12T02:44:34.597973",
     "exception": false,
     "start_time": "2020-08-12T02:44:33.711549",
     "status": "completed"
    },
    "tags": []
   },
   "outputs": [
    {
     "name": "stdout",
     "output_type": "stream",
     "text": [
      "10983\r\n"
     ]
    }
   ],
   "source": [
    "!ls -l {TEST_SAVE}|wc -l"
   ]
  },
  {
   "cell_type": "code",
   "execution_count": 28,
   "metadata": {
    "execution": {
     "iopub.execute_input": "2020-08-12T02:44:34.653395Z",
     "iopub.status.busy": "2020-08-12T02:44:34.652455Z",
     "iopub.status.idle": "2020-08-12T02:44:34.665799Z",
     "shell.execute_reply": "2020-08-12T02:44:34.666550Z"
    },
    "papermill": {
     "duration": 0.0489,
     "end_time": "2020-08-12T02:44:34.666798",
     "exception": false,
     "start_time": "2020-08-12T02:44:34.617898",
     "status": "completed"
    },
    "tags": []
   },
   "outputs": [],
   "source": [
    "# different_scale_crop(open_img(TRAIN.ls()[1]),size = 512)"
   ]
  },
  {
   "cell_type": "code",
   "execution_count": 29,
   "metadata": {
    "execution": {
     "iopub.execute_input": "2020-08-12T02:44:34.735544Z",
     "iopub.status.busy": "2020-08-12T02:44:34.734575Z",
     "iopub.status.idle": "2020-08-12T02:44:34.737940Z",
     "shell.execute_reply": "2020-08-12T02:44:34.736964Z"
    },
    "papermill": {
     "duration": 0.034099,
     "end_time": "2020-08-12T02:44:34.738113",
     "exception": false,
     "start_time": "2020-08-12T02:44:34.704014",
     "status": "completed"
    },
    "tags": []
   },
   "outputs": [],
   "source": [
    "# different_scale_crop(open_img(TRAIN.ls()[2]),size = 512)"
   ]
  },
  {
   "cell_type": "code",
   "execution_count": 30,
   "metadata": {
    "execution": {
     "iopub.execute_input": "2020-08-12T02:44:34.791279Z",
     "iopub.status.busy": "2020-08-12T02:44:34.790517Z",
     "iopub.status.idle": "2020-08-12T02:44:34.794682Z",
     "shell.execute_reply": "2020-08-12T02:44:34.793786Z"
    },
    "papermill": {
     "duration": 0.02809,
     "end_time": "2020-08-12T02:44:34.794888",
     "exception": false,
     "start_time": "2020-08-12T02:44:34.766798",
     "status": "completed"
    },
    "tags": []
   },
   "outputs": [],
   "source": [
    "# find_ratio(img,ratio = .4)"
   ]
  },
  {
   "cell_type": "code",
   "execution_count": 31,
   "metadata": {
    "execution": {
     "iopub.execute_input": "2020-08-12T02:44:34.843183Z",
     "iopub.status.busy": "2020-08-12T02:44:34.842540Z",
     "iopub.status.idle": "2020-08-12T02:45:14.417451Z",
     "shell.execute_reply": "2020-08-12T02:45:14.416834Z"
    },
    "papermill": {
     "duration": 39.600375,
     "end_time": "2020-08-12T02:45:14.417606",
     "exception": false,
     "start_time": "2020-08-12T02:44:34.817231",
     "status": "completed"
    },
    "tags": []
   },
   "outputs": [],
   "source": [
    "!tar -czvf train_data.tar.gz {TRAIN_SAVE} > /dev/null"
   ]
  },
  {
   "cell_type": "code",
   "execution_count": 32,
   "metadata": {
    "execution": {
     "iopub.execute_input": "2020-08-12T02:45:14.466849Z",
     "iopub.status.busy": "2020-08-12T02:45:14.460082Z",
     "iopub.status.idle": "2020-08-12T02:45:17.263624Z",
     "shell.execute_reply": "2020-08-12T02:45:17.263014Z"
    },
    "papermill": {
     "duration": 2.827709,
     "end_time": "2020-08-12T02:45:17.263747",
     "exception": false,
     "start_time": "2020-08-12T02:45:14.436038",
     "status": "completed"
    },
    "tags": []
   },
   "outputs": [],
   "source": [
    "!rm -rf {TRAIN_SAVE}"
   ]
  },
  {
   "cell_type": "code",
   "execution_count": 33,
   "metadata": {
    "execution": {
     "iopub.execute_input": "2020-08-12T02:45:17.310102Z",
     "iopub.status.busy": "2020-08-12T02:45:17.305768Z",
     "iopub.status.idle": "2020-08-12T02:45:30.510756Z",
     "shell.execute_reply": "2020-08-12T02:45:30.510028Z"
    },
    "papermill": {
     "duration": 13.228835,
     "end_time": "2020-08-12T02:45:30.510900",
     "exception": false,
     "start_time": "2020-08-12T02:45:17.282065",
     "status": "completed"
    },
    "tags": []
   },
   "outputs": [],
   "source": [
    "!tar -czvf test_data.tar.gz {TEST_SAVE} > /dev/null"
   ]
  },
  {
   "cell_type": "code",
   "execution_count": 34,
   "metadata": {
    "execution": {
     "iopub.execute_input": "2020-08-12T02:45:30.566123Z",
     "iopub.status.busy": "2020-08-12T02:45:30.560710Z",
     "iopub.status.idle": "2020-08-12T02:45:31.617360Z",
     "shell.execute_reply": "2020-08-12T02:45:31.616661Z"
    },
    "papermill": {
     "duration": 1.086438,
     "end_time": "2020-08-12T02:45:31.617512",
     "exception": false,
     "start_time": "2020-08-12T02:45:30.531074",
     "status": "completed"
    },
    "tags": []
   },
   "outputs": [],
   "source": [
    "!rm -rf {TEST_SAVE}"
   ]
  },
  {
   "cell_type": "code",
   "execution_count": null,
   "metadata": {
    "papermill": {
     "duration": 0.018096,
     "end_time": "2020-08-12T02:45:31.654367",
     "exception": false,
     "start_time": "2020-08-12T02:45:31.636271",
     "status": "completed"
    },
    "tags": []
   },
   "outputs": [],
   "source": []
  }
 ],
 "metadata": {
  "kernelspec": {
   "display_name": "Python 3",
   "language": "python",
   "name": "python3"
  },
  "language_info": {
   "codemirror_mode": {
    "name": "ipython",
    "version": 3
   },
   "file_extension": ".py",
   "mimetype": "text/x-python",
   "name": "python",
   "nbconvert_exporter": "python",
   "pygments_lexer": "ipython3",
   "version": "3.7.6"
  },
  "papermill": {
   "duration": 8039.031238,
   "end_time": "2020-08-12T02:45:31.784317",
   "environment_variables": {},
   "exception": null,
   "input_path": "__notebook__.ipynb",
   "output_path": "__notebook__.ipynb",
   "parameters": {},
   "start_time": "2020-08-12T00:31:32.753079",
   "version": "2.1.0"
  }
 },
 "nbformat": 4,
 "nbformat_minor": 4
}
