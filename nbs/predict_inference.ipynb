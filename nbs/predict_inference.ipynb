{
 "cells": [
  {
   "cell_type": "markdown",
   "metadata": {},
   "source": [
    "# Pytorch + GPU + Inference"
   ]
  },
  {
   "cell_type": "markdown",
   "metadata": {},
   "source": [
    "> Pytorch🔥 PyTroch - Lightning⚡️ GPU⏱\n",
    "\n",
    "This notebook explore the training experiment under pytorch lightning framework"
   ]
  },
  {
   "cell_type": "markdown",
   "metadata": {},
   "source": [
    "## Dependencies"
   ]
  },
  {
   "cell_type": "markdown",
   "metadata": {},
   "source": [
    "Install high-level frameworks\n",
    "* EfficientNet PyTorch\n",
    "* PyTorch Lightning"
   ]
  },
  {
   "cell_type": "code",
   "execution_count": 1,
   "metadata": {
    "_kg_hide-output": true
   },
   "outputs": [],
   "source": [
    "# !pip install efficientnet_pytorch\n",
    "# !pip install pytorch-lightning\n",
    "# !pip install forgebox"
   ]
  },
  {
   "cell_type": "code",
   "execution_count": 2,
   "metadata": {},
   "outputs": [],
   "source": [
    "import albumentations\n",
    "import os\n",
    "import gc\n",
    "import torch\n",
    "\n",
    "\n",
    "import numpy as np\n",
    "import pandas as pd\n",
    "\n",
    "import torch.nn as nn\n",
    "from sklearn import metrics\n",
    "from sklearn import model_selection\n",
    "from torch.nn import functional as F\n",
    "from torch.utils.data import Dataset,DataLoader\n",
    "\n",
    "import efficientnet_pytorch\n",
    "\n",
    "from pytorch_lightning import LightningModule,Trainer\n",
    "from pytorch_lightning.loggers import TensorBoardLogger\n",
    "from pytorch_lightning.callbacks import Callback,ModelCheckpoint,EarlyStopping,ProgressBar\n",
    "from pytorch_lightning.metrics import Accuracy,F1,AUC\n",
    "\n",
    "from sklearn.metrics import auc,roc_auc_score,accuracy_score\n",
    "\n",
    "from PIL import Image\n",
    "from pathlib import Path\n",
    "from tqdm import trange\n",
    "from forgebox.imports import *\n",
    "from torchvision import transforms as trf"
   ]
  },
  {
   "cell_type": "code",
   "execution_count": 3,
   "metadata": {},
   "outputs": [],
   "source": [
    "MEAN=[0.485, 0.456, 0.406]\n",
    "STD=[0.229, 0.224, 0.225] \n",
    "\n",
    "# MEAN = [0.80619959, 0.62115946, 0.59133584]\n",
    "# STD = [0.15061945, 0.17709774, 0.20317172]"
   ]
  },
  {
   "cell_type": "code",
   "execution_count": 4,
   "metadata": {},
   "outputs": [],
   "source": [
    "def get_aug(train = False):\n",
    "    mean = MEAN\n",
    "    std = STD\n",
    "    \n",
    "    if train:\n",
    "        train_aug = albumentations.Compose(\n",
    "        [albumentations.Normalize(mean, std, max_pixel_value=255.0, always_apply=True),\n",
    "        albumentations.ShiftScaleRotate(shift_limit=0.0625, scale_limit=0.1, rotate_limit=15),\n",
    "            albumentations.Flip(p=0.5)])\n",
    "        return train_aug\n",
    "    \n",
    "    else:\n",
    "        valid_aug = albumentations.Compose(\n",
    "        [albumentations.Normalize(mean, std, max_pixel_value=255.0,always_apply=True)])\n",
    "        return valid_aug"
   ]
  },
  {
   "cell_type": "code",
   "execution_count": 5,
   "metadata": {},
   "outputs": [],
   "source": [
    "aug = get_aug(train=True)"
   ]
  },
  {
   "cell_type": "code",
   "execution_count": 6,
   "metadata": {},
   "outputs": [
    {
     "name": "stdout",
     "output_type": "stream",
     "text": [
      "epoch=2.ckpt  last.ckpt\r\n"
     ]
    }
   ],
   "source": [
    "!ls /GCI/bioasq/pdl1/model/fold_0"
   ]
  },
  {
   "cell_type": "code",
   "execution_count": 7,
   "metadata": {},
   "outputs": [],
   "source": [
    "KFOLD = 5\n",
    "\n",
    "ON_KERNEL = False\n",
    "if ON_KERNEL:\n",
    "    # on kernel\n",
    "    DATA = \"../input/siim-isic-melanoma-classification/\"\n",
    "    TRAIN_CSV = \"../input/siim-isic-melanoma-classification/train.csv\"\n",
    "    TEST_CSV = \"../input/siim-isic-melanoma-classification/test.csv\"\n",
    "    TRAIN_DIR = Path(\"../input/gastly-detailed-512x-4shots/train_data/img/train\")\n",
    "    TEST_DIR = Path(\"../input/gastly-detailed-512x-4shots/test_data/img/test\")\n",
    "else:\n",
    "    # on server\n",
    "    DATA = Path(\"/GCI/bioasq/pdl1/\")\n",
    "    TRAIN_CSV = DATA/\"csv\"/\"train.csv\"\n",
    "    TEST_CSV = DATA/\"csv\"/\"test.csv\"\n",
    "    TRAIN_DIR = DATA/\"train_data/img/train\"\n",
    "    TEST_DIR = DATA/\"test_data/img/test\""
   ]
  },
  {
   "cell_type": "code",
   "execution_count": 8,
   "metadata": {},
   "outputs": [],
   "source": [
    "from glob import glob\n",
    "def model_folds(path,mode:str = \"last\"):\n",
    "    path = Path(path)\n",
    "    folds = list(p for p in path.ls() if \"fold\" in p)\n",
    "    kw = \"last\" if mode==\"last\" else \"epoch\"\n",
    "    result = []\n",
    "    for f in folds:\n",
    "        for ckpt in (path/f).ls():\n",
    "            if ckpt[-4:]==\"ckpt\" and kw in ckpt: \n",
    "                result.append(str(path/f/ckpt))\n",
    "    return result"
   ]
  },
  {
   "cell_type": "code",
   "execution_count": 37,
   "metadata": {},
   "outputs": [],
   "source": [
    "WEIGHTS = model_folds(\"/GCI/bioasq/pdl1/model/\",mode = \"best\")"
   ]
  },
  {
   "cell_type": "code",
   "execution_count": 38,
   "metadata": {},
   "outputs": [],
   "source": [
    "class EfficientNet(LightningModule):\n",
    "    def __init__(self,tag='efficientnet-b0',batch_size=16):\n",
    "        super(EfficientNet, self).__init__()\n",
    "        self.batch_size = batch_size\n",
    "        base_model = efficientnet_pytorch\\\n",
    "            .EfficientNet\\\n",
    "            .from_pretrained(tag)\n",
    "            \n",
    "        base_model._fc = nn.Linear(\n",
    "            in_features={\"efficientnet-b0\":1280, \n",
    "                         \"efficientnet-b5\":2048,}[tag],\n",
    "            out_features=1, \n",
    "            bias=True\n",
    "        )\n",
    "        self.base_model = base_model\n",
    "        self.acc = Accuracy(num_classes=2)\n",
    "        self.f1 = F1(num_classes=2)\n",
    "        self.sigmoid = nn.Sigmoid()\n",
    "        \n",
    "        self.crit = nn.BCEWithLogitsLoss()\n",
    "        \n",
    "    def p10(self,logits):\n",
    "        return (self.sigmoid(logits)>.5).float()\n",
    "        \n",
    "    def forward(self, image):\n",
    "        out = self.base_model(image)\n",
    "        return out\n",
    "    \n",
    "    @classmethod\n",
    "    def from_fold(cls,tag,fold,weight_path=WEIGHTS):\n",
    "        path = list(p for p in weight_path if f\"fold_{fold}\" in p)[0]\n",
    "        print(f\"Loading fold {fold} with path:\\n{path}\")\n",
    "        model = cls(tag)\n",
    "        model.load_state_dict(torch.load(path,map_location='cpu')['state_dict'])\n",
    "        model.fold = fold\n",
    "        model = model.eval()\n",
    "        return model"
   ]
  },
  {
   "cell_type": "code",
   "execution_count": 39,
   "metadata": {},
   "outputs": [
    {
     "name": "stdout",
     "output_type": "stream",
     "text": [
      "Loading fold 0 with path:\n",
      "/GCI/bioasq/pdl1/model/fold_0/epoch=2.ckpt\n",
      "Loaded pretrained weights for efficientnet-b5\n"
     ]
    }
   ],
   "source": [
    "model = EfficientNet.from_fold(tag = 'efficientnet-b5',fold = 0)"
   ]
  },
  {
   "cell_type": "code",
   "execution_count": 40,
   "metadata": {},
   "outputs": [],
   "source": [
    "folds_csv = pd.read_csv(\"train_folds.csv\")"
   ]
  },
  {
   "cell_type": "markdown",
   "metadata": {},
   "source": [
    "### Getting label by folds"
   ]
  },
  {
   "cell_type": "code",
   "execution_count": 41,
   "metadata": {},
   "outputs": [],
   "source": [
    "def get_label(fold):\n",
    "    df = folds_csv[folds_csv.kfold==fold]\n",
    "    df = df[~df.duplicated(subset=[\"image_name\",])].reset_index(drop=True)[[\"image_name\",\"target\"]]\n",
    "    return df\n",
    "\n",
    "def mean_std(t):\n",
    "    return {\"mean\":t.mean(),\"std\":t.std()}"
   ]
  },
  {
   "cell_type": "code",
   "execution_count": 42,
   "metadata": {},
   "outputs": [
    {
     "data": {
      "text/html": [
       "<div>\n",
       "<style scoped>\n",
       "    .dataframe tbody tr th:only-of-type {\n",
       "        vertical-align: middle;\n",
       "    }\n",
       "\n",
       "    .dataframe tbody tr th {\n",
       "        vertical-align: top;\n",
       "    }\n",
       "\n",
       "    .dataframe thead th {\n",
       "        text-align: right;\n",
       "    }\n",
       "</style>\n",
       "<table border=\"1\" class=\"dataframe\">\n",
       "  <thead>\n",
       "    <tr style=\"text-align: right;\">\n",
       "      <th></th>\n",
       "      <th>image_name</th>\n",
       "      <th>target</th>\n",
       "    </tr>\n",
       "  </thead>\n",
       "  <tbody>\n",
       "    <tr>\n",
       "      <th>0</th>\n",
       "      <td>ISIC_3846648</td>\n",
       "      <td>0</td>\n",
       "    </tr>\n",
       "    <tr>\n",
       "      <th>1</th>\n",
       "      <td>ISIC_1136589</td>\n",
       "      <td>0</td>\n",
       "    </tr>\n",
       "    <tr>\n",
       "      <th>2</th>\n",
       "      <td>ISIC_0474975</td>\n",
       "      <td>0</td>\n",
       "    </tr>\n",
       "    <tr>\n",
       "      <th>3</th>\n",
       "      <td>ISIC_4820373</td>\n",
       "      <td>0</td>\n",
       "    </tr>\n",
       "    <tr>\n",
       "      <th>4</th>\n",
       "      <td>ISIC_0952098</td>\n",
       "      <td>0</td>\n",
       "    </tr>\n",
       "    <tr>\n",
       "      <th>...</th>\n",
       "      <td>...</td>\n",
       "      <td>...</td>\n",
       "    </tr>\n",
       "    <tr>\n",
       "      <th>6620</th>\n",
       "      <td>ISIC_5829938</td>\n",
       "      <td>1</td>\n",
       "    </tr>\n",
       "    <tr>\n",
       "      <th>6621</th>\n",
       "      <td>ISIC_2408815</td>\n",
       "      <td>1</td>\n",
       "    </tr>\n",
       "    <tr>\n",
       "      <th>6622</th>\n",
       "      <td>ISIC_0844312</td>\n",
       "      <td>1</td>\n",
       "    </tr>\n",
       "    <tr>\n",
       "      <th>6623</th>\n",
       "      <td>ISIC_3065032</td>\n",
       "      <td>1</td>\n",
       "    </tr>\n",
       "    <tr>\n",
       "      <th>6624</th>\n",
       "      <td>ISIC_2141237</td>\n",
       "      <td>1</td>\n",
       "    </tr>\n",
       "  </tbody>\n",
       "</table>\n",
       "<p>6625 rows × 2 columns</p>\n",
       "</div>"
      ],
      "text/plain": [
       "        image_name  target\n",
       "0     ISIC_3846648       0\n",
       "1     ISIC_1136589       0\n",
       "2     ISIC_0474975       0\n",
       "3     ISIC_4820373       0\n",
       "4     ISIC_0952098       0\n",
       "...            ...     ...\n",
       "6620  ISIC_5829938       1\n",
       "6621  ISIC_2408815       1\n",
       "6622  ISIC_0844312       1\n",
       "6623  ISIC_3065032       1\n",
       "6624  ISIC_2141237       1\n",
       "\n",
       "[6625 rows x 2 columns]"
      ]
     },
     "execution_count": 42,
     "metadata": {},
     "output_type": "execute_result"
    }
   ],
   "source": [
    "get_label(2)"
   ]
  },
  {
   "cell_type": "code",
   "execution_count": 43,
   "metadata": {},
   "outputs": [],
   "source": [
    "def create_dl(f):\n",
    "    def wrapper(*args,**kwargs):\n",
    "        ds = f(*args,**kwargs)\n",
    "        if kwargs.get(\"return_dl\"):\n",
    "            return DataLoader(ds, batch_size = 128,shuffle = False, num_workers = 8)\n",
    "        else:\n",
    "            return ds\n",
    "    return wrapper\n",
    "\n",
    "class siimData(Dataset):\n",
    "    def __init__(self,df,path,aug):\n",
    "        self.df = df\n",
    "        self.indices = df.index\n",
    "        self.open_rgb = self.open_function(Path(path))\n",
    "        self.aug = aug\n",
    "        \n",
    "    def __len__(self,):return len(self.df)\n",
    "        \n",
    "    def __getitem__(self,idx):\n",
    "        row = dict(self.df.loc[self.indices[idx]])\n",
    "        image_name = row[\"image_name\"]\n",
    "        target = row[\"target\"] if \"target\" in row else -1\n",
    "        img = self.open_rgb(image_name)\n",
    "        \n",
    "        arr = self.aug(image = np.array(img))[\"image\"]\n",
    "        return np.moveaxis(arr,[0,1,2],[1,2,0]), target, image_name\n",
    "    \n",
    "    @staticmethod\n",
    "    def open_function(parent:Path, mode:str = \"RGB\", resize:int = None,format_ = \"jpg\"):\n",
    "        def open_image(image_id:str):\n",
    "            img = Image.open(parent/f\"{image_id}.{format_}\").convert(mode)\n",
    "            if resize:\n",
    "                img = img.resize((resize,resize))\n",
    "            return img\n",
    "        return open_image\n",
    "    \n",
    "    @classmethod\n",
    "    @create_dl\n",
    "    def infer_folds(cls,fold:int,return_dl = True):\n",
    "        \"\"\"\n",
    "        Dataset for inference on a fold's validation data\n",
    "        \"\"\"\n",
    "        return siimData(get_label(fold),TRAIN_DIR,get_aug(train=False))\n",
    "    \n",
    "    @classmethod\n",
    "    @create_dl\n",
    "    def infer_test(cls,return_dl = True):\n",
    "        \"\"\"\n",
    "        Dataset for inference on test dataset\n",
    "        \"\"\"\n",
    "        return cls(pd.read_csv(TEST_CSV),TEST_DIR,get_aug(train=False))"
   ]
  },
  {
   "cell_type": "code",
   "execution_count": 44,
   "metadata": {},
   "outputs": [
    {
     "data": {
      "text/plain": [
       "(<__main__.siimData at 0x7f87bb989690>,\n",
       " <torch.utils.data.dataloader.DataLoader at 0x7f87bb80ac10>)"
      ]
     },
     "execution_count": 44,
     "metadata": {},
     "output_type": "execute_result"
    }
   ],
   "source": [
    "siimData.infer_test(),siimData.infer_test(return_dl = True)"
   ]
  },
  {
   "cell_type": "code",
   "execution_count": 45,
   "metadata": {},
   "outputs": [
    {
     "data": {
      "text/plain": [
       "<torch.utils.data.dataloader.DataLoader at 0x7f87b71f1590>"
      ]
     },
     "execution_count": 45,
     "metadata": {},
     "output_type": "execute_result"
    }
   ],
   "source": [
    "siimData.infer_folds(2,return_dl=True)"
   ]
  },
  {
   "cell_type": "code",
   "execution_count": 46,
   "metadata": {},
   "outputs": [],
   "source": [
    "from tqdm.notebook import tqdm_notebook as tqdm\n",
    "from itertools import chain\n",
    "from forgebox.ftorch.cuda import CudaHandler"
   ]
  },
  {
   "cell_type": "code",
   "execution_count": 48,
   "metadata": {},
   "outputs": [],
   "source": [
    "def tonp(x): return x.cpu().numpy()"
   ]
  },
  {
   "cell_type": "code",
   "execution_count": 23,
   "metadata": {},
   "outputs": [],
   "source": [
    "def pred(model,dl,device=\"cpu\"):\n",
    "    model = model.to(device)\n",
    "    gen = iter(dl)\n",
    "    Names,Y,Y_ = [],[],[]\n",
    "    with torch.no_grad():\n",
    "        for x,y,names in tqdm(dl):\n",
    "            x = x.to(device)\n",
    "            y = y.to(device)\n",
    "            Names.append(names)\n",
    "            y_ = model.sigmoid(model(x))\n",
    "            Y.append(tonp(y).reshape(-1))\n",
    "            Y_.append(tonp(y_).reshape(-1))\n",
    "    Names = list(chain(*Names))\n",
    "    Y = np.concatenate(Y)\n",
    "    Y_ = np.concatenate(Y_)\n",
    "    \n",
    "    model = model.to(\"cpu\")\n",
    "    return pd.DataFrame({\"image_name\":Names,\"target\":Y_,\"label\":Y})"
   ]
  },
  {
   "cell_type": "code",
   "execution_count": 50,
   "metadata": {},
   "outputs": [
    {
     "name": "stdout",
     "output_type": "stream",
     "text": [
      ">>> 2 cuda devices found >>>\n",
      "Device 0: \n",
      "\tname:Tesla V100-PCIE-32GB\n",
      "\tused:1343MB\tfree:31167MB\n",
      "Device 1: \n",
      "\tname:Tesla V100-PCIE-32GB\n",
      "\tused:26657MB\tfree:5853MB\n",
      "cuda stats refreshed\n",
      "Found the most idle GPU: cuda:0, 31167 MB Mem remained\n"
     ]
    }
   ],
   "source": [
    "idle = CudaHandler().idle().device"
   ]
  },
  {
   "cell_type": "code",
   "execution_count": 51,
   "metadata": {},
   "outputs": [
    {
     "name": "stdout",
     "output_type": "stream",
     "text": [
      "Loading fold 0 with path:\n",
      "/GCI/bioasq/pdl1/model/fold_0/epoch=2.ckpt\n",
      "Loaded pretrained weights for efficientnet-b5\n"
     ]
    },
    {
     "data": {
      "application/vnd.jupyter.widget-view+json": {
       "model_id": "019401aab01a4e73834e9639cfaad7d2",
       "version_major": 2,
       "version_minor": 0
      },
      "text/plain": [
       "HBox(children=(FloatProgress(value=0.0, max=52.0), HTML(value='')))"
      ]
     },
     "metadata": {},
     "output_type": "display_data"
    },
    {
     "name": "stdout",
     "output_type": "stream",
     "text": [
      "\n",
      "[FOLD 0]>>> AUC:\t0.5351669548934874\n",
      "ACC:\t0.9823422879565349\n",
      "Loading fold 1 with path:\n",
      "/GCI/bioasq/pdl1/model/fold_1/epoch=8.ckpt\n",
      "Loaded pretrained weights for efficientnet-b5\n"
     ]
    },
    {
     "data": {
      "application/vnd.jupyter.widget-view+json": {
       "model_id": "d9ee7c80feb141ef97b115d32e1d3e29",
       "version_major": 2,
       "version_minor": 0
      },
      "text/plain": [
       "HBox(children=(FloatProgress(value=0.0, max=52.0), HTML(value='')))"
      ]
     },
     "metadata": {},
     "output_type": "display_data"
    },
    {
     "name": "stdout",
     "output_type": "stream",
     "text": [
      "\n",
      "[FOLD 1]>>> AUC:\t0.8903269213449813\n",
      "ACC:\t0.9806792452830189\n",
      "Loading fold 2 with path:\n",
      "/GCI/bioasq/pdl1/model/fold_2/epoch=5.ckpt\n",
      "Loaded pretrained weights for efficientnet-b5\n"
     ]
    },
    {
     "data": {
      "application/vnd.jupyter.widget-view+json": {
       "model_id": "6d3409daa15e418694bde90d15e0fd25",
       "version_major": 2,
       "version_minor": 0
      },
      "text/plain": [
       "HBox(children=(FloatProgress(value=0.0, max=52.0), HTML(value='')))"
      ]
     },
     "metadata": {},
     "output_type": "display_data"
    },
    {
     "name": "stdout",
     "output_type": "stream",
     "text": [
      "\n",
      "[FOLD 2]>>> AUC:\t0.8863489511922209\n",
      "ACC:\t0.9770566037735849\n",
      "Loading fold 3 with path:\n",
      "/GCI/bioasq/pdl1/model/fold_3/epoch=0.ckpt\n",
      "Loaded pretrained weights for efficientnet-b5\n"
     ]
    },
    {
     "data": {
      "application/vnd.jupyter.widget-view+json": {
       "model_id": "8df362ca86394294997b7daf4fc7f4d7",
       "version_major": 2,
       "version_minor": 0
      },
      "text/plain": [
       "HBox(children=(FloatProgress(value=0.0, max=52.0), HTML(value='')))"
      ]
     },
     "metadata": {},
     "output_type": "display_data"
    },
    {
     "name": "stdout",
     "output_type": "stream",
     "text": [
      "\n",
      "[FOLD 3]>>> AUC:\t0.8707586717728082\n",
      "ACC:\t0.9823396226415094\n",
      "Loading fold 4 with path:\n",
      "/GCI/bioasq/pdl1/model/fold_4/epoch=9.ckpt\n",
      "Loaded pretrained weights for efficientnet-b5\n"
     ]
    },
    {
     "data": {
      "application/vnd.jupyter.widget-view+json": {
       "model_id": "5b0406a2532242a6a31f8c5c25fd4734",
       "version_major": 2,
       "version_minor": 0
      },
      "text/plain": [
       "HBox(children=(FloatProgress(value=0.0, max=52.0), HTML(value='')))"
      ]
     },
     "metadata": {},
     "output_type": "display_data"
    },
    {
     "name": "stdout",
     "output_type": "stream",
     "text": [
      "\n",
      "[FOLD 4]>>> AUC:\t0.8441431715863184\n",
      "ACC:\t0.9811320754716981\n"
     ]
    }
   ],
   "source": [
    "for fold in range(KFOLD):\n",
    "    pred_df = pred(EfficientNet.from_fold(tag = 'efficientnet-b5',fold = fold),\n",
    "                   siimData.infer_folds(fold,\n",
    "                                        return_dl=True),\n",
    "                   device = idle\n",
    "                  )\n",
    "    auc = roc_auc_score(pred_df.label,pred_df.target,)\n",
    "    acc = accuracy_score(pred_df.label,pred_df.target>0.5)\n",
    "    print(f\"[FOLD {fold}]>>> AUC:\\t{auc}\\nACC:\\t{acc}\")"
   ]
  },
  {
   "cell_type": "markdown",
   "metadata": {},
   "source": [
    "[FOLD 0]>>> AUC:\t0.8798783538374872\n",
    "ACC:\t0.9817386054935104\n",
    "\n",
    "[FOLD 1]>>> AUC:\t0.8418436541446592\n",
    "ACC:\t0.979622641509434\n",
    "\n",
    "[FOLD 2]>>> AUC:\t0.8823814476856886\n",
    "ACC:\t0.9802264150943396\n",
    "\n",
    "[FOLD 3]>>> AUC:\t0.9093121417952396\n",
    "ACC:\t0.9829433962264151\n",
    "\n",
    "[FOLD 4]>>> AUC:\t0.8747655745197231\n",
    "ACC:\t0.9803773584905661"
   ]
  },
  {
   "cell_type": "code",
   "execution_count": 17,
   "metadata": {},
   "outputs": [
    {
     "data": {
      "text/plain": [
       "tensor([0, 0, 0, 1])"
      ]
     },
     "execution_count": 17,
     "metadata": {},
     "output_type": "execute_result"
    }
   ],
   "source": [
    "y"
   ]
  }
 ],
 "metadata": {
  "kernelspec": {
   "display_name": "Python 3",
   "language": "python",
   "name": "python3"
  },
  "language_info": {
   "codemirror_mode": {
    "name": "ipython",
    "version": 3
   },
   "file_extension": ".py",
   "mimetype": "text/x-python",
   "name": "python",
   "nbconvert_exporter": "python",
   "pygments_lexer": "ipython3",
   "version": "3.7.6"
  },
  "latex_envs": {
   "LaTeX_envs_menu_present": true,
   "autoclose": false,
   "autocomplete": true,
   "bibliofile": "biblio.bib",
   "cite_by": "apalike",
   "current_citInitial": 1,
   "eqLabelWithNumbers": true,
   "eqNumInitial": 1,
   "hotkeys": {
    "equation": "Ctrl-E",
    "itemize": "Ctrl-I"
   },
   "labels_anchors": false,
   "latex_user_defs": false,
   "report_style_numbering": false,
   "user_envs_cfg": false
  },
  "toc": {
   "base_numbering": 1,
   "nav_menu": {},
   "number_sections": true,
   "sideBar": true,
   "skip_h1_title": false,
   "title_cell": "Table of Contents",
   "title_sidebar": "Contents",
   "toc_cell": false,
   "toc_position": {},
   "toc_section_display": true,
   "toc_window_display": true
  }
 },
 "nbformat": 4,
 "nbformat_minor": 4
}
